{
  "nbformat": 4,
  "nbformat_minor": 0,
  "metadata": {
    "colab": {
      "provenance": [],
      "authorship_tag": "ABX9TyPBkbj61Cp0lf4y8nLRn/u0",
      "include_colab_link": true
    },
    "kernelspec": {
      "name": "python3",
      "display_name": "Python 3"
    },
    "language_info": {
      "name": "python"
    }
  },
  "cells": [
    {
      "cell_type": "markdown",
      "metadata": {
        "id": "view-in-github",
        "colab_type": "text"
      },
      "source": [
        "<a href=\"https://colab.research.google.com/github/waseemghazigithub/Assignment4/blob/main/01_expressions.ipynb\" target=\"_parent\"><img src=\"https://colab.research.google.com/assets/colab-badge.svg\" alt=\"Open In Colab\"/></a>"
      ]
    },
    {
      "cell_type": "code",
      "execution_count": 1,
      "metadata": {
        "colab": {
          "base_uri": "https://localhost:8080/"
        },
        "id": "8z8v9FPJ30Ji",
        "outputId": "d7dcdfae-ebb1-40c0-8aa0-ce23e6208ea0"
      },
      "outputs": [
        {
          "output_type": "stream",
          "name": "stdout",
          "text": [
            "die1 in main() starts as: 10\n",
            "dice 1 =====>4\n",
            "dice 2 =====>5\n",
            "Total of two dice: 9\n",
            "dice 1 =====>4\n",
            "dice 2 =====>2\n",
            "Total of two dice: 6\n",
            "dice 1 =====>2\n",
            "dice 2 =====>6\n",
            "Total of two dice: 8\n",
            "die1 in main() is: 10\n"
          ]
        }
      ],
      "source": [
        "import random\n",
        "\n",
        "# Number of sides on each die to roll\n",
        "NUM_SIDES = 6\n",
        "print(\"01_dicesimulator\\n\")\n",
        "def roll_dice():\n",
        "    \"\"\"\n",
        "    Simulates rolling two dice and prints their total\n",
        "    \"\"\"\n",
        "    die1: int = random.randint(1, NUM_SIDES)\n",
        "    die2: int = random.randint(1, NUM_SIDES)\n",
        "    total: int = die1 + die2\n",
        "    print(\"dice 1 =====>\"+str(die1))\n",
        "    print(\"dice 2 =====>\"+str(die2))\n",
        "    print(\"Total of two dice:\", total)\n",
        "\n",
        "def main():\n",
        "    die1: int = 10\n",
        "    print(\"die1 in main() starts as: \" + str(die1))\n",
        "    roll_dice()\n",
        "    roll_dice()\n",
        "    roll_dice()\n",
        "    print(\"die1 in main() is: \" + str(die1))\n",
        "\n",
        "# This provided line is required at the end of a Python file\n",
        "# to call the main() function.\n",
        "if __name__ == '__main__':\n",
        "    main()"
      ]
    }
  ]
}