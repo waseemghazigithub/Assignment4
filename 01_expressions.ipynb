{
  "nbformat": 4,
  "nbformat_minor": 0,
  "metadata": {
    "colab": {
      "provenance": [],
      "authorship_tag": "ABX9TyNcgqFo6Y74Qwrpns+aJ7fX",
      "include_colab_link": true
    },
    "kernelspec": {
      "name": "python3",
      "display_name": "Python 3"
    },
    "language_info": {
      "name": "python"
    }
  },
  "cells": [
    {
      "cell_type": "markdown",
      "metadata": {
        "id": "view-in-github",
        "colab_type": "text"
      },
      "source": [
        "<a href=\"https://colab.research.google.com/github/waseemghazigithub/Assignment4/blob/main/01_expressions.ipynb\" target=\"_parent\"><img src=\"https://colab.research.google.com/assets/colab-badge.svg\" alt=\"Open In Colab\"/></a>"
      ]
    },
    {
      "cell_type": "code",
      "execution_count": null,
      "metadata": {
        "colab": {
          "base_uri": "https://localhost:8080/"
        },
        "id": "8z8v9FPJ30Ji",
        "outputId": "d7dcdfae-ebb1-40c0-8aa0-ce23e6208ea0"
      },
      "outputs": [
        {
          "output_type": "stream",
          "name": "stdout",
          "text": [
            "die1 in main() starts as: 10\n",
            "dice 1 =====>4\n",
            "dice 2 =====>5\n",
            "Total of two dice: 9\n",
            "dice 1 =====>4\n",
            "dice 2 =====>2\n",
            "Total of two dice: 6\n",
            "dice 1 =====>2\n",
            "dice 2 =====>6\n",
            "Total of two dice: 8\n",
            "die1 in main() is: 10\n"
          ]
        }
      ],
      "source": [
        "import random\n",
        "\n",
        "# Number of sides on each die to roll\n",
        "NUM_SIDES = 6\n",
        "print(\"01_dicesimulator\\n\")\n",
        "def roll_dice():\n",
        "    \"\"\"\n",
        "    Simulates rolling two dice and prints their total\n",
        "    \"\"\"\n",
        "    die1: int = random.randint(1, NUM_SIDES)\n",
        "    die2: int = random.randint(1, NUM_SIDES)\n",
        "    total: int = die1 + die2\n",
        "    print(\"dice 1 =====>\"+str(die1))\n",
        "    print(\"dice 2 =====>\"+str(die2))\n",
        "    print(\"Total of two dice:\", total)\n",
        "\n",
        "def main():\n",
        "    die1: int = 10\n",
        "    print(\"die1 in main() starts as: \" + str(die1))\n",
        "    roll_dice()\n",
        "    roll_dice()\n",
        "    roll_dice()\n",
        "    print(\"die1 in main() is: \" + str(die1))\n",
        "\n",
        "# This provided line is required at the end of a Python file\n",
        "# to call the main() function.\n",
        "if __name__ == '__main__':\n",
        "    main()"
      ]
    },
    {
      "cell_type": "code",
      "source": [
        "C: int = 299792458  # The speed of light in m/s\n",
        "\n",
        "def main():\n",
        "    mass_in_kg: float = float(input(\"Enter kilos of mass: \"))\n",
        "\n",
        "    # Calculate energy\n",
        "    # equivalently energy = mass * (C ** 2)\n",
        "    # using the ** operator to raise C to the power of 2\n",
        "    energy_in_joules: float = mass_in_kg * (C ** 2)\n",
        "\n",
        "    # Display work to the user\n",
        "    print(\"e = m * C^2...\")\n",
        "    print(\"\\033[1;3m\" + \"m = \" + str(mass_in_kg) + \" kg\" + \"\\033[0m\")\n",
        "    print(\"C = \" + str(C) + \" m/s\")\n",
        "\n",
        "    print(str(energy_in_joules) + \" joules of energy!\")\n",
        "\n",
        "\n",
        "# There is no need to edit code beyond this point\n",
        "\n",
        "if __name__ == '__main__':\n",
        "    main()\n"
      ],
      "metadata": {
        "colab": {
          "base_uri": "https://localhost:8080/"
        },
        "id": "7vkU2po7Wvxl",
        "outputId": "b4107a46-e42f-4f9c-a3c6-ad9c8c0d80d3"
      },
      "execution_count": 8,
      "outputs": [
        {
          "output_type": "stream",
          "name": "stdout",
          "text": [
            "Enter kilos of mass: 566566\n",
            "e = m * C^2...\n",
            "\u001b[1;3mm = 566566.0 kg\u001b[0m\n",
            "C = 299792458 m/s\n",
            "5.092041265962038e+22 joules of energy!\n"
          ]
        }
      ]
    }
  ]
}