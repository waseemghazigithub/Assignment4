{
  "nbformat": 4,
  "nbformat_minor": 0,
  "metadata": {
    "colab": {
      "provenance": [],
      "authorship_tag": "ABX9TyPo90S9aqnaOJcJnUXpfBPe",
      "include_colab_link": true
    },
    "kernelspec": {
      "name": "python3",
      "display_name": "Python 3"
    },
    "language_info": {
      "name": "python"
    }
  },
  "cells": [
    {
      "cell_type": "markdown",
      "metadata": {
        "id": "view-in-github",
        "colab_type": "text"
      },
      "source": [
        "<a href=\"https://colab.research.google.com/github/waseemghazigithub/Assignment4/blob/main/00_intro_python.ipynb\" target=\"_parent\"><img src=\"https://colab.research.google.com/assets/colab-badge.svg\" alt=\"Open In Colab\"/></a>"
      ]
    },
    {
      "cell_type": "code",
      "execution_count": 1,
      "metadata": {
        "colab": {
          "base_uri": "https://localhost:8080/"
        },
        "id": "P-9qfs50MKZG",
        "outputId": "8431d609-a18a-4d15-bc1b-3a8d8363eaa0"
      },
      "outputs": [
        {
          "output_type": "stream",
          "name": "stdout",
          "text": [
            "Enter your favorite animal: camel\n",
            "Your favorite animal is camel!\n"
          ]
        }
      ],
      "source": [
        "def main():\n",
        "    animal : str = input(\"Enter your favorite animal: \")\n",
        "    print(\"Your favorite animal is \" + animal + \"!\")\n",
        "if __name__ == '__main__':\n",
        "    main()"
      ]
    },
    {
      "cell_type": "code",
      "source": [
        "def main():\n",
        "    print(\"This program adds two numbers.\")\n",
        "    num1 : str = input(\"Enter first number: \")\n",
        "\n",
        "    if num1 is None or num1.strip() == \"\":\n",
        "        print(\"Invalid number\")\n",
        "    else:\n",
        "        num1 = int(num1)\n",
        "\n",
        "    num2  : str = input(\"Enter second number: \")\n",
        "    if num2 is None or num2.strip() == \"\":\n",
        "        print(\"Invalid number\")\n",
        "    else:\n",
        "        num2 = int(num2)\n",
        "\n",
        "        total : int = num1 + num2\n",
        "        print(\"The total is \" + str(total) + \".\")\n",
        "\n",
        "\n",
        "#This provided line is required at the end of\n",
        "#Python file to call the main() function.\n",
        "if __name__ == '__main__':\n",
        "    main()"
      ],
      "metadata": {
        "id": "xE_17yAtO6VV"
      },
      "execution_count": null,
      "outputs": []
    }
  ]
}