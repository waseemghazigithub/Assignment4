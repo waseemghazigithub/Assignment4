{
  "nbformat": 4,
  "nbformat_minor": 0,
  "metadata": {
    "colab": {
      "provenance": [],
      "authorship_tag": "ABX9TyPEQeKKqSOqqXyg4i58FCnO",
      "include_colab_link": true
    },
    "kernelspec": {
      "name": "python3",
      "display_name": "Python 3"
    },
    "language_info": {
      "name": "python"
    }
  },
  "cells": [
    {
      "cell_type": "markdown",
      "metadata": {
        "id": "view-in-github",
        "colab_type": "text"
      },
      "source": [
        "<a href=\"https://colab.research.google.com/github/waseemghazigithub/Assignment4/blob/main/00_intro_python.ipynb\" target=\"_parent\"><img src=\"https://colab.research.google.com/assets/colab-badge.svg\" alt=\"Open In Colab\"/></a>"
      ]
    },
    {
      "cell_type": "code",
      "source": [
        "print(\"01_add_two_numbers\\n\")\n",
        "def main():\n",
        "    print(\"This program adds two numbers.\")\n",
        "    num1 : str = input(\"Enter first number: \")\n",
        "\n",
        "    if num1 is None or num1.strip() == \"\":\n",
        "        print(\"Invalid number\")\n",
        "    else:\n",
        "        num1 = int(num1)\n",
        "\n",
        "    num2  : str = input(\"Enter second number: \")\n",
        "    if num2 is None or num2.strip() == \"\":\n",
        "        print(\"Invalid number\")\n",
        "    else:\n",
        "        num2 = int(num2)\n",
        "\n",
        "        total : int = num1 + num2\n",
        "        print(\"The total is \" + str(total) + \".\")\n",
        "\n",
        "\n",
        "#This provided line is required at the end of\n",
        "#Python file to call the main() function.\n",
        "if __name__ == '__main__':\n",
        "    main()"
      ],
      "metadata": {
        "id": "xE_17yAtO6VV"
      },
      "execution_count": null,
      "outputs": []
    },
    {
      "cell_type": "code",
      "execution_count": 3,
      "metadata": {
        "id": "P-9qfs50MKZG",
        "colab": {
          "base_uri": "https://localhost:8080/"
        },
        "outputId": "00499fbe-7b20-41b7-bae0-9d3e761a1dd3"
      },
      "outputs": [
        {
          "output_type": "stream",
          "name": "stdout",
          "text": [
            "02_agreement_bot\n",
            "\n",
            "Enter your favorite animal: camal\n",
            "Your favorite animal is camal!\n"
          ]
        }
      ],
      "source": [
        "print(\"02_agreement_bot\\n\")\n",
        "def main():\n",
        "   animal : str = input(\"Enter your favorite animal: \")\n",
        "   if animal.strip() and not animal.isdigit():\n",
        "       print(\"Your favorite animal is \" + animal + \"!\")\n",
        "   else:\n",
        "        print(\"Not a string.\")\n",
        "if __name__ == '__main__':\n",
        "    main()"
      ]
    },
    {
      "cell_type": "code",
      "source": [
        "print(\"03_fahrenheit\\n\")\n",
        "\n",
        "def main():\n",
        "    Temp_fah : str = input(\"Enter temperature in Fahrenheit: \")\n",
        "    if Temp_fah.strip()== \"\" and not Temp_fah.isdigit():\n",
        "       print(\"Not Valid temprature\")\n",
        "    else:\n",
        "         celcius : float = (float(Temp_fah) - 32) * 5/9\n",
        "         print(\"Temprature Fahrenhiet \"+str(Temp_fah)+'  =  ' + str(celcius) + \" Celsius!\")\n",
        "\n",
        "if __name__ == '__main__':\n",
        "    main()"
      ],
      "metadata": {
        "id": "uUlPnmCvPMPs",
        "colab": {
          "base_uri": "https://localhost:8080/"
        },
        "outputId": "0adcc7ea-ed0b-4fab-da52-c7e6d742f1d3"
      },
      "execution_count": 4,
      "outputs": [
        {
          "output_type": "stream",
          "name": "stdout",
          "text": [
            "03_fahrenheit\n",
            "\n",
            "Enter temperature in Fahrenheit: 75\n",
            "Temprature Fahrenhiet 75  =  23.88888888888889 Celsius!\n"
          ]
        }
      ]
    }
  ]
}