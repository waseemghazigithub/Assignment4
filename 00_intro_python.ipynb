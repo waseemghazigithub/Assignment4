{
  "nbformat": 4,
  "nbformat_minor": 0,
  "metadata": {
    "colab": {
      "provenance": [],
      "authorship_tag": "ABX9TyNrRhYBIn+ck7DN0PWt/xW0",
      "include_colab_link": true
    },
    "kernelspec": {
      "name": "python3",
      "display_name": "Python 3"
    },
    "language_info": {
      "name": "python"
    }
  },
  "cells": [
    {
      "cell_type": "markdown",
      "metadata": {
        "id": "view-in-github",
        "colab_type": "text"
      },
      "source": [
        "<a href=\"https://colab.research.google.com/github/waseemghazigithub/Assignment4/blob/main/00_intro_python.ipynb\" target=\"_parent\"><img src=\"https://colab.research.google.com/assets/colab-badge.svg\" alt=\"Open In Colab\"/></a>"
      ]
    },
    {
      "cell_type": "code",
      "source": [
        "print(\"01_add_two_numbers\\n\")\n",
        "def main():\n",
        "    print(\"This program adds two numbers.\")\n",
        "    num1 : str = input(\"Enter first number: \")\n",
        "\n",
        "    if num1 is None or num1.strip() == \"\":\n",
        "        print(\"Invalid number\")\n",
        "    else:\n",
        "        num1 = int(num1)\n",
        "\n",
        "    num2  : str = input(\"Enter second number: \")\n",
        "    if num2 is None or num2.strip() == \"\":\n",
        "        print(\"Invalid number\")\n",
        "    else:\n",
        "        num2 = int(num2)\n",
        "\n",
        "        total : int = num1 + num2\n",
        "        print(\"The total is \" + str(total) + \".\")\n",
        "\n",
        "\n",
        "#This provided line is required at the end of\n",
        "#Python file to call the main() function.\n",
        "if __name__ == '__main__':\n",
        "    main()"
      ],
      "metadata": {
        "id": "xE_17yAtO6VV"
      },
      "execution_count": null,
      "outputs": []
    },
    {
      "cell_type": "code",
      "execution_count": 3,
      "metadata": {
        "id": "P-9qfs50MKZG",
        "colab": {
          "base_uri": "https://localhost:8080/"
        },
        "outputId": "00499fbe-7b20-41b7-bae0-9d3e761a1dd3"
      },
      "outputs": [
        {
          "output_type": "stream",
          "name": "stdout",
          "text": [
            "02_agreement_bot\n",
            "\n",
            "Enter your favorite animal: camal\n",
            "Your favorite animal is camal!\n"
          ]
        }
      ],
      "source": [
        "print(\"02_agreement_bot\\n\")\n",
        "def main():\n",
        "   animal : str = input(\"Enter your favorite animal: \")\n",
        "   if animal.strip() and not animal.isdigit():\n",
        "       print(\"Your favorite animal is \" + animal + \"!\")\n",
        "   else:\n",
        "        print(\"Not a string.\")\n",
        "if __name__ == '__main__':\n",
        "    main()"
      ]
    },
    {
      "cell_type": "code",
      "source": [
        "print(\"03_fahrenheit\\n\")\n",
        "\n",
        "def main():\n",
        "    Temp_fah : str = input(\"Enter temperature in Fahrenheit: \")\n",
        "    if Temp_fah.strip()== \"\" and not Temp_fah.isdigit():\n",
        "       print(\"Not Valid temprature\")\n",
        "    else:\n",
        "         celcius : float = (float(Temp_fah) - 32) * 5/9\n",
        "         print(\"Temprature Fahrenhiet \"+str(Temp_fah)+'  =  ' + str(celcius) + \" Celsius!\")\n",
        "\n",
        "if __name__ == '__main__':\n",
        "    main()"
      ],
      "metadata": {
        "id": "uUlPnmCvPMPs",
        "colab": {
          "base_uri": "https://localhost:8080/"
        },
        "outputId": "0adcc7ea-ed0b-4fab-da52-c7e6d742f1d3"
      },
      "execution_count": 4,
      "outputs": [
        {
          "output_type": "stream",
          "name": "stdout",
          "text": [
            "03_fahrenheit\n",
            "\n",
            "Enter temperature in Fahrenheit: 75\n",
            "Temprature Fahrenhiet 75  =  23.88888888888889 Celsius!\n"
          ]
        }
      ]
    },
    {
      "cell_type": "code",
      "source": [
        "print(\"04_how_old_are_they\\n\")\n",
        "def main():\n",
        "    anton : int = 21  # Anton's age is given as 21 years old\n",
        "    beth : int = 6 + anton  # Beth is 6 years older than Anton, so add 6 to Anton's age to get Beth's\n",
        "    chen : int = 20 + beth  # Chen is 20 years older than Beth, so add 20 to Beth's age to get Chen's\n",
        "    drew  : int= chen + anton  # Drew is as old as Chen's age plus Anton's age, so add them together\n",
        "    ethan : int = chen  # Ethan is the same age as Chen, so set Ethan's age equal to Chen's\n",
        "\n",
        "   # Print out all of the ages!\n",
        "    print(\"Anton is \" + str(anton))\n",
        "    print(\"Beth is \" + str(beth))\n",
        "    print(\"Chen is \" + str(chen))\n",
        "    print(\"Drew is \" + str(drew))\n",
        "    print(\"Ethan is \" + str(ethan))\n",
        "\n",
        "\n",
        "# There is no need to edit code beyond this point\n",
        "\n",
        "if __name__ == '__main__':\n",
        "    main()"
      ],
      "metadata": {
        "colab": {
          "base_uri": "https://localhost:8080/"
        },
        "id": "XxOcJwtVr7j2",
        "outputId": "6972cb13-635e-4c76-e7a5-c63ee91d4b57"
      },
      "execution_count": 5,
      "outputs": [
        {
          "output_type": "stream",
          "name": "stdout",
          "text": [
            "04_how_old_are_they\n",
            "\n",
            "Anton is 21\n",
            "Beth is 27\n",
            "Chen is 47\n",
            "Drew is 68\n",
            "Ethan is 47\n"
          ]
        }
      ]
    },
    {
      "cell_type": "code",
      "source": [
        "def is_valid_number(value: str) -> bool:\n",
        "    try:\n",
        "        float(value)\n",
        "        return True\n",
        "    except ValueError:\n",
        "        return False\n",
        "\n",
        "def main():\n",
        "    side1_str = input(\"What is the length of side 1? \")\n",
        "    if is_valid_number(side1_str):\n",
        "        side2_str = input(\"What is the length of side 2? \")\n",
        "        if is_valid_number(side2_str):\n",
        "            side3_str = input(\"What is the length of side 3? \")\n",
        "            if is_valid_number(side3_str):\n",
        "                # Convert all to float after validating\n",
        "                side1 = float(side1_str)\n",
        "                side2 = float(side2_str)\n",
        "                side3 = float(side3_str)\n",
        "\n",
        "                print(f\"Sides are:\" + str(side1 + side2 + side3))\n",
        "                # Do something with the sides...\n",
        "            else:\n",
        "                print(\"Side 3 is not a valid number.\")\n",
        "        else:\n",
        "            print(\"Side 2 is not a valid number.\")\n",
        "    else:\n",
        "        print(\"Side 1 is not a valid number.\")\n",
        "\n",
        "main()\n"
      ],
      "metadata": {
        "id": "DVMf8ZRKtT8w"
      },
      "execution_count": null,
      "outputs": []
    }
  ]
}